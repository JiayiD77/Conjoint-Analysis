{
 "cells": [
  {
   "cell_type": "code",
   "execution_count": 27,
   "metadata": {},
   "outputs": [],
   "source": [
    "import pandas as pd\n",
    "import numpy as np\n",
    "import matplotlib.pyplot as plt\n",
    "import statsmodels.api as sm"
   ]
  },
  {
   "cell_type": "markdown",
   "metadata": {},
   "source": [
    "### Data importation"
   ]
  },
  {
   "cell_type": "code",
   "execution_count": 36,
   "metadata": {},
   "outputs": [
    {
     "data": {
      "text/html": [
       "<div>\n",
       "<style scoped>\n",
       "    .dataframe tbody tr th:only-of-type {\n",
       "        vertical-align: middle;\n",
       "    }\n",
       "\n",
       "    .dataframe tbody tr th {\n",
       "        vertical-align: top;\n",
       "    }\n",
       "\n",
       "    .dataframe thead th {\n",
       "        text-align: right;\n",
       "    }\n",
       "</style>\n",
       "<table border=\"1\" class=\"dataframe\">\n",
       "  <thead>\n",
       "    <tr style=\"text-align: right;\">\n",
       "      <th></th>\n",
       "      <th>customerid</th>\n",
       "      <th>NumberAccounts</th>\n",
       "      <th>price</th>\n",
       "      <th>ExtraContent</th>\n",
       "      <th>ads</th>\n",
       "      <th>selected</th>\n",
       "    </tr>\n",
       "  </thead>\n",
       "  <tbody>\n",
       "    <tr>\n",
       "      <th>0</th>\n",
       "      <td>7</td>\n",
       "      <td>2</td>\n",
       "      <td>10</td>\n",
       "      <td>HBO</td>\n",
       "      <td>one_per_day</td>\n",
       "      <td>1</td>\n",
       "    </tr>\n",
       "    <tr>\n",
       "      <th>1</th>\n",
       "      <td>7</td>\n",
       "      <td>6</td>\n",
       "      <td>8</td>\n",
       "      <td>Marvel</td>\n",
       "      <td>one_per_show</td>\n",
       "      <td>1</td>\n",
       "    </tr>\n",
       "    <tr>\n",
       "      <th>2</th>\n",
       "      <td>7</td>\n",
       "      <td>4</td>\n",
       "      <td>15</td>\n",
       "      <td>Disney</td>\n",
       "      <td>one_per_day</td>\n",
       "      <td>1</td>\n",
       "    </tr>\n",
       "    <tr>\n",
       "      <th>3</th>\n",
       "      <td>7</td>\n",
       "      <td>5</td>\n",
       "      <td>10</td>\n",
       "      <td>HBO</td>\n",
       "      <td>one_per_day</td>\n",
       "      <td>1</td>\n",
       "    </tr>\n",
       "    <tr>\n",
       "      <th>4</th>\n",
       "      <td>7</td>\n",
       "      <td>1</td>\n",
       "      <td>20</td>\n",
       "      <td>Soccer</td>\n",
       "      <td>one_per_show</td>\n",
       "      <td>1</td>\n",
       "    </tr>\n",
       "  </tbody>\n",
       "</table>\n",
       "</div>"
      ],
      "text/plain": [
       "   customerid  NumberAccounts  price ExtraContent           ads  selected\n",
       "0           7               2     10          HBO   one_per_day         1\n",
       "1           7               6      8       Marvel  one_per_show         1\n",
       "2           7               4     15       Disney   one_per_day         1\n",
       "3           7               5     10          HBO   one_per_day         1\n",
       "4           7               1     20       Soccer  one_per_show         1"
      ]
     },
     "execution_count": 36,
     "metadata": {},
     "output_type": "execute_result"
    }
   ],
   "source": [
    "data = pd.read_csv(\"netflix_customer_survey.csv\")\n",
    "data.head()"
   ]
  },
  {
   "cell_type": "markdown",
   "metadata": {},
   "source": [
    "### Data Preperation"
   ]
  },
  {
   "cell_type": "code",
   "execution_count": 37,
   "metadata": {},
   "outputs": [
    {
     "data": {
      "text/html": [
       "<div>\n",
       "<style scoped>\n",
       "    .dataframe tbody tr th:only-of-type {\n",
       "        vertical-align: middle;\n",
       "    }\n",
       "\n",
       "    .dataframe tbody tr th {\n",
       "        vertical-align: top;\n",
       "    }\n",
       "\n",
       "    .dataframe thead th {\n",
       "        text-align: right;\n",
       "    }\n",
       "</style>\n",
       "<table border=\"1\" class=\"dataframe\">\n",
       "  <thead>\n",
       "    <tr style=\"text-align: right;\">\n",
       "      <th></th>\n",
       "      <th>NumberAccounts</th>\n",
       "      <th>price</th>\n",
       "      <th>ExtraContent</th>\n",
       "      <th>ads</th>\n",
       "    </tr>\n",
       "  </thead>\n",
       "  <tbody>\n",
       "    <tr>\n",
       "      <th>0</th>\n",
       "      <td>2</td>\n",
       "      <td>10</td>\n",
       "      <td>HBO</td>\n",
       "      <td>one_per_day</td>\n",
       "    </tr>\n",
       "    <tr>\n",
       "      <th>1</th>\n",
       "      <td>6</td>\n",
       "      <td>8</td>\n",
       "      <td>Marvel</td>\n",
       "      <td>one_per_show</td>\n",
       "    </tr>\n",
       "    <tr>\n",
       "      <th>2</th>\n",
       "      <td>4</td>\n",
       "      <td>15</td>\n",
       "      <td>Disney</td>\n",
       "      <td>one_per_day</td>\n",
       "    </tr>\n",
       "    <tr>\n",
       "      <th>3</th>\n",
       "      <td>5</td>\n",
       "      <td>10</td>\n",
       "      <td>HBO</td>\n",
       "      <td>one_per_day</td>\n",
       "    </tr>\n",
       "    <tr>\n",
       "      <th>4</th>\n",
       "      <td>1</td>\n",
       "      <td>20</td>\n",
       "      <td>Soccer</td>\n",
       "      <td>one_per_show</td>\n",
       "    </tr>\n",
       "  </tbody>\n",
       "</table>\n",
       "</div>"
      ],
      "text/plain": [
       "   NumberAccounts  price ExtraContent           ads\n",
       "0               2     10          HBO   one_per_day\n",
       "1               6      8       Marvel  one_per_show\n",
       "2               4     15       Disney   one_per_day\n",
       "3               5     10          HBO   one_per_day\n",
       "4               1     20       Soccer  one_per_show"
      ]
     },
     "execution_count": 37,
     "metadata": {},
     "output_type": "execute_result"
    }
   ],
   "source": [
    "X = data.drop(columns=['selected', 'customerid'])\n",
    "y = data['selected']\n",
    "X.head()"
   ]
  },
  {
   "cell_type": "markdown",
   "metadata": {},
   "source": [
    "Some EDA"
   ]
  },
  {
   "cell_type": "code",
   "execution_count": 38,
   "metadata": {},
   "outputs": [
    {
     "data": {
      "text/plain": [
       "array([1, 0], dtype=int64)"
      ]
     },
     "execution_count": 38,
     "metadata": {},
     "output_type": "execute_result"
    }
   ],
   "source": [
    "y.unique()"
   ]
  },
  {
   "cell_type": "code",
   "execution_count": 40,
   "metadata": {},
   "outputs": [
    {
     "data": {
      "text/plain": [
       "array([2, 6, 4, 5, 1, 3], dtype=int64)"
      ]
     },
     "execution_count": 40,
     "metadata": {},
     "output_type": "execute_result"
    }
   ],
   "source": [
    "X['NumberAccounts'].unique()"
   ]
  },
  {
   "cell_type": "code",
   "execution_count": 41,
   "metadata": {},
   "outputs": [
    {
     "data": {
      "text/plain": [
       "array([10,  8, 15, 20, 12, 18], dtype=int64)"
      ]
     },
     "execution_count": 41,
     "metadata": {},
     "output_type": "execute_result"
    }
   ],
   "source": [
    "X['price'].unique()"
   ]
  },
  {
   "cell_type": "code",
   "execution_count": 42,
   "metadata": {},
   "outputs": [
    {
     "data": {
      "text/plain": [
       "array(['HBO', 'Marvel', 'Disney', 'Soccer', 'less content',\n",
       "       'Prime originals'], dtype=object)"
      ]
     },
     "execution_count": 42,
     "metadata": {},
     "output_type": "execute_result"
    }
   ],
   "source": [
    "X['ExtraContent'].unique()"
   ]
  },
  {
   "cell_type": "code",
   "execution_count": 43,
   "metadata": {},
   "outputs": [
    {
     "data": {
      "text/plain": [
       "array(['one_per_day', 'one_per_show', 'none'], dtype=object)"
      ]
     },
     "execution_count": 43,
     "metadata": {},
     "output_type": "execute_result"
    }
   ],
   "source": [
    "X['ads'].unique()"
   ]
  },
  {
   "cell_type": "code",
   "execution_count": 44,
   "metadata": {},
   "outputs": [
    {
     "data": {
      "text/html": [
       "<div>\n",
       "<style scoped>\n",
       "    .dataframe tbody tr th:only-of-type {\n",
       "        vertical-align: middle;\n",
       "    }\n",
       "\n",
       "    .dataframe tbody tr th {\n",
       "        vertical-align: top;\n",
       "    }\n",
       "\n",
       "    .dataframe thead th {\n",
       "        text-align: right;\n",
       "    }\n",
       "</style>\n",
       "<table border=\"1\" class=\"dataframe\">\n",
       "  <thead>\n",
       "    <tr style=\"text-align: right;\">\n",
       "      <th></th>\n",
       "      <th>NumberAccounts_1</th>\n",
       "      <th>NumberAccounts_2</th>\n",
       "      <th>NumberAccounts_3</th>\n",
       "      <th>NumberAccounts_4</th>\n",
       "      <th>NumberAccounts_5</th>\n",
       "      <th>NumberAccounts_6</th>\n",
       "      <th>price_8</th>\n",
       "      <th>price_10</th>\n",
       "      <th>price_12</th>\n",
       "      <th>price_15</th>\n",
       "      <th>...</th>\n",
       "      <th>price_20</th>\n",
       "      <th>ExtraContent_Disney</th>\n",
       "      <th>ExtraContent_HBO</th>\n",
       "      <th>ExtraContent_Marvel</th>\n",
       "      <th>ExtraContent_Prime originals</th>\n",
       "      <th>ExtraContent_Soccer</th>\n",
       "      <th>ExtraContent_less content</th>\n",
       "      <th>ads_none</th>\n",
       "      <th>ads_one_per_day</th>\n",
       "      <th>ads_one_per_show</th>\n",
       "    </tr>\n",
       "  </thead>\n",
       "  <tbody>\n",
       "    <tr>\n",
       "      <th>0</th>\n",
       "      <td>0</td>\n",
       "      <td>1</td>\n",
       "      <td>0</td>\n",
       "      <td>0</td>\n",
       "      <td>0</td>\n",
       "      <td>0</td>\n",
       "      <td>0</td>\n",
       "      <td>1</td>\n",
       "      <td>0</td>\n",
       "      <td>0</td>\n",
       "      <td>...</td>\n",
       "      <td>0</td>\n",
       "      <td>0</td>\n",
       "      <td>1</td>\n",
       "      <td>0</td>\n",
       "      <td>0</td>\n",
       "      <td>0</td>\n",
       "      <td>0</td>\n",
       "      <td>0</td>\n",
       "      <td>1</td>\n",
       "      <td>0</td>\n",
       "    </tr>\n",
       "  </tbody>\n",
       "</table>\n",
       "<p>1 rows × 21 columns</p>\n",
       "</div>"
      ],
      "text/plain": [
       "   NumberAccounts_1  NumberAccounts_2  NumberAccounts_3  NumberAccounts_4  \\\n",
       "0                 0                 1                 0                 0   \n",
       "\n",
       "   NumberAccounts_5  NumberAccounts_6  price_8  price_10  price_12  price_15  \\\n",
       "0                 0                 0        0         1         0         0   \n",
       "\n",
       "   ...  price_20  ExtraContent_Disney  ExtraContent_HBO  ExtraContent_Marvel  \\\n",
       "0  ...         0                    0                 1                    0   \n",
       "\n",
       "   ExtraContent_Prime originals  ExtraContent_Soccer  \\\n",
       "0                             0                    0   \n",
       "\n",
       "   ExtraContent_less content  ads_none  ads_one_per_day  ads_one_per_show  \n",
       "0                          0         0                1                 0  \n",
       "\n",
       "[1 rows x 21 columns]"
      ]
     },
     "execution_count": 44,
     "metadata": {},
     "output_type": "execute_result"
    }
   ],
   "source": [
    "# One-hot encode the features\n",
    "X_dummy = pd.get_dummies(X, columns=X.columns)\n",
    "X_dummy.head(1)"
   ]
  },
  {
   "cell_type": "markdown",
   "metadata": {},
   "source": [
    "### Logistic Regression Model"
   ]
  },
  {
   "cell_type": "code",
   "execution_count": 46,
   "metadata": {},
   "outputs": [
    {
     "name": "stdout",
     "output_type": "stream",
     "text": [
      "Optimization terminated successfully.\n",
      "         Current function value: 0.649426\n",
      "         Iterations 5\n"
     ]
    },
    {
     "data": {
      "text/html": [
       "<table class=\"simpletable\">\n",
       "<caption>Logit Regression Results</caption>\n",
       "<tr>\n",
       "  <th>Dep. Variable:</th>       <td>selected</td>     <th>  No. Observations:  </th>  <td>  3000</td>  \n",
       "</tr>\n",
       "<tr>\n",
       "  <th>Model:</th>                 <td>Logit</td>      <th>  Df Residuals:      </th>  <td>  2979</td>  \n",
       "</tr>\n",
       "<tr>\n",
       "  <th>Method:</th>                 <td>MLE</td>       <th>  Df Model:          </th>  <td>    20</td>  \n",
       "</tr>\n",
       "<tr>\n",
       "  <th>Date:</th>            <td>Mon, 11 Dec 2023</td> <th>  Pseudo R-squ.:     </th>  <td>0.06307</td> \n",
       "</tr>\n",
       "<tr>\n",
       "  <th>Time:</th>                <td>18:32:32</td>     <th>  Log-Likelihood:    </th> <td> -1948.3</td> \n",
       "</tr>\n",
       "<tr>\n",
       "  <th>converged:</th>             <td>True</td>       <th>  LL-Null:           </th> <td> -2079.4</td> \n",
       "</tr>\n",
       "<tr>\n",
       "  <th>Covariance Type:</th>     <td>nonrobust</td>    <th>  LLR p-value:       </th> <td>3.781e-44</td>\n",
       "</tr>\n",
       "</table>\n",
       "<table class=\"simpletable\">\n",
       "<tr>\n",
       "                <td></td>                  <th>coef</th>     <th>std err</th>      <th>z</th>      <th>P>|z|</th>  <th>[0.025</th>    <th>0.975]</th>  \n",
       "</tr>\n",
       "<tr>\n",
       "  <th>NumberAccounts_1</th>             <td>   -0.7047</td> <td> 1.73e+06</td> <td>-4.06e-07</td> <td> 1.000</td> <td> -3.4e+06</td> <td>  3.4e+06</td>\n",
       "</tr>\n",
       "<tr>\n",
       "  <th>NumberAccounts_2</th>             <td>   -0.0733</td> <td> 1.73e+06</td> <td>-4.23e-08</td> <td> 1.000</td> <td> -3.4e+06</td> <td>  3.4e+06</td>\n",
       "</tr>\n",
       "<tr>\n",
       "  <th>NumberAccounts_3</th>             <td>   -0.0219</td> <td> 1.73e+06</td> <td>-1.26e-08</td> <td> 1.000</td> <td> -3.4e+06</td> <td>  3.4e+06</td>\n",
       "</tr>\n",
       "<tr>\n",
       "  <th>NumberAccounts_4</th>             <td>    0.1252</td> <td> 1.73e+06</td> <td> 7.22e-08</td> <td> 1.000</td> <td> -3.4e+06</td> <td>  3.4e+06</td>\n",
       "</tr>\n",
       "<tr>\n",
       "  <th>NumberAccounts_5</th>             <td>    0.1318</td> <td> 1.73e+06</td> <td>  7.6e-08</td> <td> 1.000</td> <td> -3.4e+06</td> <td>  3.4e+06</td>\n",
       "</tr>\n",
       "<tr>\n",
       "  <th>NumberAccounts_6</th>             <td>    0.4976</td> <td> 1.73e+06</td> <td> 2.87e-07</td> <td> 1.000</td> <td> -3.4e+06</td> <td>  3.4e+06</td>\n",
       "</tr>\n",
       "<tr>\n",
       "  <th>price_8</th>                      <td>    0.2972</td> <td> 1.41e+06</td> <td>  2.1e-07</td> <td> 1.000</td> <td>-2.77e+06</td> <td> 2.77e+06</td>\n",
       "</tr>\n",
       "<tr>\n",
       "  <th>price_10</th>                     <td>    0.2207</td> <td> 1.41e+06</td> <td> 1.56e-07</td> <td> 1.000</td> <td>-2.77e+06</td> <td> 2.77e+06</td>\n",
       "</tr>\n",
       "<tr>\n",
       "  <th>price_12</th>                     <td>    0.2020</td> <td> 1.41e+06</td> <td> 1.43e-07</td> <td> 1.000</td> <td>-2.77e+06</td> <td> 2.77e+06</td>\n",
       "</tr>\n",
       "<tr>\n",
       "  <th>price_15</th>                     <td>    0.0197</td> <td> 1.41e+06</td> <td>  1.4e-08</td> <td> 1.000</td> <td>-2.77e+06</td> <td> 2.77e+06</td>\n",
       "</tr>\n",
       "<tr>\n",
       "  <th>price_18</th>                     <td>   -0.1030</td> <td> 1.41e+06</td> <td> -7.3e-08</td> <td> 1.000</td> <td>-2.77e+06</td> <td> 2.77e+06</td>\n",
       "</tr>\n",
       "<tr>\n",
       "  <th>price_20</th>                     <td>   -0.6819</td> <td> 1.41e+06</td> <td>-4.83e-07</td> <td> 1.000</td> <td>-2.77e+06</td> <td> 2.77e+06</td>\n",
       "</tr>\n",
       "<tr>\n",
       "  <th>ExtraContent_Disney</th>          <td>    0.2282</td> <td> 2.69e+06</td> <td>  8.5e-08</td> <td> 1.000</td> <td>-5.26e+06</td> <td> 5.26e+06</td>\n",
       "</tr>\n",
       "<tr>\n",
       "  <th>ExtraContent_HBO</th>             <td>    0.2270</td> <td> 2.69e+06</td> <td> 8.45e-08</td> <td> 1.000</td> <td>-5.26e+06</td> <td> 5.26e+06</td>\n",
       "</tr>\n",
       "<tr>\n",
       "  <th>ExtraContent_Marvel</th>          <td>    0.1452</td> <td> 2.69e+06</td> <td> 5.41e-08</td> <td> 1.000</td> <td>-5.26e+06</td> <td> 5.26e+06</td>\n",
       "</tr>\n",
       "<tr>\n",
       "  <th>ExtraContent_Prime originals</th> <td>    0.1279</td> <td> 2.69e+06</td> <td> 4.76e-08</td> <td> 1.000</td> <td>-5.26e+06</td> <td> 5.26e+06</td>\n",
       "</tr>\n",
       "<tr>\n",
       "  <th>ExtraContent_Soccer</th>          <td>   -0.2048</td> <td> 2.69e+06</td> <td>-7.63e-08</td> <td> 1.000</td> <td>-5.26e+06</td> <td> 5.26e+06</td>\n",
       "</tr>\n",
       "<tr>\n",
       "  <th>ExtraContent_less content</th>    <td>   -0.5689</td> <td> 2.69e+06</td> <td>-2.12e-07</td> <td> 1.000</td> <td>-5.26e+06</td> <td> 5.26e+06</td>\n",
       "</tr>\n",
       "<tr>\n",
       "  <th>ads_none</th>                     <td>    0.2082</td> <td> 1.59e+06</td> <td> 1.31e-07</td> <td> 1.000</td> <td>-3.12e+06</td> <td> 3.12e+06</td>\n",
       "</tr>\n",
       "<tr>\n",
       "  <th>ads_one_per_day</th>              <td>    0.1092</td> <td> 1.59e+06</td> <td> 6.87e-08</td> <td> 1.000</td> <td>-3.12e+06</td> <td> 3.12e+06</td>\n",
       "</tr>\n",
       "<tr>\n",
       "  <th>ads_one_per_show</th>             <td>   -0.3627</td> <td> 1.59e+06</td> <td>-2.28e-07</td> <td> 1.000</td> <td>-3.12e+06</td> <td> 3.12e+06</td>\n",
       "</tr>\n",
       "</table>"
      ],
      "text/plain": [
       "<class 'statsmodels.iolib.summary.Summary'>\n",
       "\"\"\"\n",
       "                           Logit Regression Results                           \n",
       "==============================================================================\n",
       "Dep. Variable:               selected   No. Observations:                 3000\n",
       "Model:                          Logit   Df Residuals:                     2979\n",
       "Method:                           MLE   Df Model:                           20\n",
       "Date:                Mon, 11 Dec 2023   Pseudo R-squ.:                 0.06307\n",
       "Time:                        18:32:32   Log-Likelihood:                -1948.3\n",
       "converged:                       True   LL-Null:                       -2079.4\n",
       "Covariance Type:            nonrobust   LLR p-value:                 3.781e-44\n",
       "================================================================================================\n",
       "                                   coef    std err          z      P>|z|      [0.025      0.975]\n",
       "------------------------------------------------------------------------------------------------\n",
       "NumberAccounts_1                -0.7047   1.73e+06  -4.06e-07      1.000    -3.4e+06     3.4e+06\n",
       "NumberAccounts_2                -0.0733   1.73e+06  -4.23e-08      1.000    -3.4e+06     3.4e+06\n",
       "NumberAccounts_3                -0.0219   1.73e+06  -1.26e-08      1.000    -3.4e+06     3.4e+06\n",
       "NumberAccounts_4                 0.1252   1.73e+06   7.22e-08      1.000    -3.4e+06     3.4e+06\n",
       "NumberAccounts_5                 0.1318   1.73e+06    7.6e-08      1.000    -3.4e+06     3.4e+06\n",
       "NumberAccounts_6                 0.4976   1.73e+06   2.87e-07      1.000    -3.4e+06     3.4e+06\n",
       "price_8                          0.2972   1.41e+06    2.1e-07      1.000   -2.77e+06    2.77e+06\n",
       "price_10                         0.2207   1.41e+06   1.56e-07      1.000   -2.77e+06    2.77e+06\n",
       "price_12                         0.2020   1.41e+06   1.43e-07      1.000   -2.77e+06    2.77e+06\n",
       "price_15                         0.0197   1.41e+06    1.4e-08      1.000   -2.77e+06    2.77e+06\n",
       "price_18                        -0.1030   1.41e+06   -7.3e-08      1.000   -2.77e+06    2.77e+06\n",
       "price_20                        -0.6819   1.41e+06  -4.83e-07      1.000   -2.77e+06    2.77e+06\n",
       "ExtraContent_Disney              0.2282   2.69e+06    8.5e-08      1.000   -5.26e+06    5.26e+06\n",
       "ExtraContent_HBO                 0.2270   2.69e+06   8.45e-08      1.000   -5.26e+06    5.26e+06\n",
       "ExtraContent_Marvel              0.1452   2.69e+06   5.41e-08      1.000   -5.26e+06    5.26e+06\n",
       "ExtraContent_Prime originals     0.1279   2.69e+06   4.76e-08      1.000   -5.26e+06    5.26e+06\n",
       "ExtraContent_Soccer             -0.2048   2.69e+06  -7.63e-08      1.000   -5.26e+06    5.26e+06\n",
       "ExtraContent_less content       -0.5689   2.69e+06  -2.12e-07      1.000   -5.26e+06    5.26e+06\n",
       "ads_none                         0.2082   1.59e+06   1.31e-07      1.000   -3.12e+06    3.12e+06\n",
       "ads_one_per_day                  0.1092   1.59e+06   6.87e-08      1.000   -3.12e+06    3.12e+06\n",
       "ads_one_per_show                -0.3627   1.59e+06  -2.28e-07      1.000   -3.12e+06    3.12e+06\n",
       "================================================================================================\n",
       "\"\"\""
      ]
     },
     "execution_count": 46,
     "metadata": {},
     "output_type": "execute_result"
    }
   ],
   "source": [
    "model = sm.Logit(y, X_dummy).fit()\n",
    "model.summary()"
   ]
  },
  {
   "cell_type": "markdown",
   "metadata": {},
   "source": [
    "### Visualization"
   ]
  },
  {
   "cell_type": "code",
   "execution_count": 15,
   "metadata": {},
   "outputs": [],
   "source": [
    "result_df = pd.DataFrame({\"Param_names\": model.params.keys(),\n",
    "                          \"Partworth\": model.params.values,\n",
    "                          \"P_values\":model.pvalues}).reset_index(drop=True)"
   ]
  },
  {
   "cell_type": "code",
   "execution_count": 16,
   "metadata": {},
   "outputs": [
    {
     "data": {
      "text/html": [
       "<div>\n",
       "<style scoped>\n",
       "    .dataframe tbody tr th:only-of-type {\n",
       "        vertical-align: middle;\n",
       "    }\n",
       "\n",
       "    .dataframe tbody tr th {\n",
       "        vertical-align: top;\n",
       "    }\n",
       "\n",
       "    .dataframe thead th {\n",
       "        text-align: right;\n",
       "    }\n",
       "</style>\n",
       "<table border=\"1\" class=\"dataframe\">\n",
       "  <thead>\n",
       "    <tr style=\"text-align: right;\">\n",
       "      <th></th>\n",
       "      <th>Param_names</th>\n",
       "      <th>Partworth</th>\n",
       "      <th>P_values</th>\n",
       "    </tr>\n",
       "  </thead>\n",
       "  <tbody>\n",
       "    <tr>\n",
       "      <th>0</th>\n",
       "      <td>NumberAccounts_1</td>\n",
       "      <td>-2.721298e+12</td>\n",
       "      <td>0.04912</td>\n",
       "    </tr>\n",
       "    <tr>\n",
       "      <th>1</th>\n",
       "      <td>NumberAccounts_2</td>\n",
       "      <td>-2.721298e+12</td>\n",
       "      <td>0.04912</td>\n",
       "    </tr>\n",
       "    <tr>\n",
       "      <th>2</th>\n",
       "      <td>NumberAccounts_3</td>\n",
       "      <td>-2.721298e+12</td>\n",
       "      <td>0.04912</td>\n",
       "    </tr>\n",
       "    <tr>\n",
       "      <th>3</th>\n",
       "      <td>NumberAccounts_4</td>\n",
       "      <td>-2.721298e+12</td>\n",
       "      <td>0.04912</td>\n",
       "    </tr>\n",
       "    <tr>\n",
       "      <th>4</th>\n",
       "      <td>NumberAccounts_5</td>\n",
       "      <td>-2.721298e+12</td>\n",
       "      <td>0.04912</td>\n",
       "    </tr>\n",
       "  </tbody>\n",
       "</table>\n",
       "</div>"
      ],
      "text/plain": [
       "        Param_names     Partworth  P_values\n",
       "0  NumberAccounts_1 -2.721298e+12   0.04912\n",
       "1  NumberAccounts_2 -2.721298e+12   0.04912\n",
       "2  NumberAccounts_3 -2.721298e+12   0.04912\n",
       "3  NumberAccounts_4 -2.721298e+12   0.04912\n",
       "4  NumberAccounts_5 -2.721298e+12   0.04912"
      ]
     },
     "execution_count": 16,
     "metadata": {},
     "output_type": "execute_result"
    }
   ],
   "source": [
    "result_df.head()"
   ]
  },
  {
   "cell_type": "code",
   "execution_count": 24,
   "metadata": {},
   "outputs": [],
   "source": [
    "result_df = result_df.sort_values(by='Partworth')"
   ]
  },
  {
   "cell_type": "code",
   "execution_count": 25,
   "metadata": {},
   "outputs": [
    {
     "data": {
      "image/png": "[encoded data removed]",
      "text/plain": [
       "<Figure size 1400x800 with 1 Axes>"
      ]
     },
     "metadata": {},
     "output_type": "display_data"
    }
   ],
   "source": [
    "fig, ax = plt.subplots(figsize=(14, 8))\n",
    "plt.title('Partworths of features', fontsize=20)\n",
    "values = result_df['Partworth']\n",
    "plt.barh(result_df['Param_names'], values)\n",
    "plt.xticks(fontsize=15)\n",
    "plt.show()"
   ]
  },
  {
   "cell_type": "code",
   "execution_count": null,
   "metadata": {},
   "outputs": [],
   "source": []
  }
 ],
 "metadata": {
  "kernelspec": {
   "display_name": "base",
   "language": "python",
   "name": "python3"
  },
  "language_info": {
   "codemirror_mode": {
    "name": "ipython",
    "version": 3
   },
   "file_extension": ".py",
   "mimetype": "text/x-python",
   "name": "python",
   "nbconvert_exporter": "python",
   "pygments_lexer": "ipython3",
   "version": "3.9.13"
  }
 },
 "nbformat": 4,
 "nbformat_minor": 2
}
